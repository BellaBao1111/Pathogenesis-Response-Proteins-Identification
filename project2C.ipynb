{
 "cells": [
  {
   "cell_type": "markdown",
   "id": "a7bef260-9b66-4f2d-87cf-1c7ab94ab45a",
   "metadata": {},
   "source": [
    "## Scientific question: How structurally similar pathogenesis response proteins in apples (Mal d 2) are compare to the pathogenesis response proteins in cherry (Pru av 2)?"
   ]
  },
  {
   "cell_type": "markdown",
   "id": "2102e566-5ca6-4e8c-b6b0-aadb4f5fb1c2",
   "metadata": {},
   "source": [
    "Background: Allergy is a steadily increasing health problem for all age groups in our society. Recent studies have found that allergenic proteins from very different sources can have nearly identical sequences and structures, and that this similarity can account for clinically observed cross-reactivity. That's being said, by looking structural similarity of pathogenesis response proteins among different orgranisms, we can identify potential allergen of a person who we already know what he is already allergic to. Some studies have identified common molecular features of proteins from quite different sources, which could account for clinically important cross reactivity and sensitivity. For example, major allergenic proteins in peanut have been isolated, and peptides from their sequences that react with IgE from patient sera identified (Rabjohn P, Helm EM, Stanley JS, West CM, Sampson HA, Burks AW, Bannon GA). Proteins similar to these allergens were subsequently found in other foods that are known to elicit clinically significant responses in peanut allergic individuals (Schein CH, Ivanciuc O, Braun W), such as tree nuts (de Leon MP, Glaspole IN, Drew AC, Rolland JM, O'Hehir RE, Suphioglu C), soy, and legumes. In this study, I will focus on the structural similarity between pathogenesis response proteins in apple and cherry. Mal d 1 is a 17.5 kDa protein containing 480-483 nucleotides encoding 158-159 amino acids and it's the major apple allergen (Thermal fisher). The 23 kDa thaumatin-like protein (TLP) from cherry was identified as a major allergen and designated Pru av 2 (H.C.FuchsaC.RadaueraA.MaribF.AltmanncM.Bublin). If those two proteins are highly structrally similar, then we can conclude that people that are allergic to apple have higher chance of being allergic to cherry, so they should avoid consuming such food."
   ]
  },
  {
   "cell_type": "markdown",
   "id": "b866e3d5-0d47-47e8-a63c-aab0fcfe1998",
   "metadata": {},
   "source": [
    "## Scientific Hypothesis: If the mRNA sequence of Mal d 2 from publically available databases has high alignment score with Pru av 2 after perform pairwise sequence alignment, and the protein structure of these two can be aligned, then we can conclude that the pathogenesis response proteins in apples (Mal d 2) are structurally similar to that in cherry (Pru av 2)."
   ]
  },
  {
   "cell_type": "markdown",
   "id": "872880c8-1bb6-45c0-b8bc-fd7e8285df4a",
   "metadata": {},
   "source": [
    "Previous studies have identified common molecular features of proteins from quite different sources, which could account for clinically important cross reactivity and sensitivity. In this study, we want to compare the structral similarity between two proteins. We can do this by pairwise alignment sequencing and structural \n",
    "Bioinformatics (protein alignment through Pymol). First we want to compare the mRNA sequence of Mal d 2 and Pru av 2 from publically available database. I used the mRNA sequence of cherry (Pru av 2)from NCBI(https://www.ncbi.nlm.nih.gov/nuccore/U32440) and mRNA sequence of apple (Mal d 2) from NCBI(https://www.ncbi.nlm.nih.gov/nuccore/AF090143). I then use pairwise alignment sequence technique to analyze the alignment between those two sequences in python (code source: https://towardsdatascience.com/pairwise-sequence-alignment-using-biopython-d1a9d0ba861f). Then, I do the protein alignment in Pymol. I then did 3D protein measurement by calculating the distance between the alpha carbons for a pair of residues from the PDB file I download from RCSB PDB database."
   ]
  },
  {
   "cell_type": "markdown",
   "id": "0b15ef62-bf59-41eb-87b0-2eb1cbde31ec",
   "metadata": {},
   "source": [
    "## Part 1: Load the package"
   ]
  },
  {
   "cell_type": "markdown",
   "id": "818388ea-d394-41e7-a8c7-6579ad050e2b",
   "metadata": {},
   "source": [
    "- Bio: The Bio package is Python tools used for computational molecular biology. It's a popular Python modules that can solve many bioinformatics questions. The developers  are a member project of the Open Bioinformatics Foundation (OBF). Some useful tools in Bio includes pairwise2 and PDB. Here I used both pairwise2 and PDB to do the pairwise alignment as well as show the protein structure from databases. The source code available every license in the world. More information about this package can be found in here: https://biopython.org/\n",
    "\n",
    "- nglview: The nglview package is Python tools used to interactively view molecular structures and trajectories. It utilizes the NGL Viewer for rendering. It supporst data from the file-system, RCSB PDB, simpletraj and from objects of analysis libraries such as rdkit, ase, HTMD, and biopython. Here I used nglview to show the protein structure from RCSB PDB database. More information about this package can be found in here: https://github.com/nglviewer/nglview\n",
    "\n",
    "- IPython: The IPython package is a powerful interactive shell. It can support interactive data visualization. We can use Ipython to embed flexible interpreters into the Jupyter notebook. It's very easy to use, and here I use this package to import the YouTubeVideo in order to show the protein alignment video I have created. IPython also support in multiple programming languages such as Javascript, CSS, HTML. More information about this package can be found in here: https://ipython.org/\n",
    "\n",
    "- numpy: The NumPy package is a Python library used for working with arrays. We can use numpty to create, add element, delete element, create 2D matrix, and etc. It is often widely used in math and data science for working in domain of linear algebra and matrices. Here I used NumPy to create 2D matrix array for the use of creating heatmap plot. More information about numpy can be found in here: https://numpy.org/\n",
    "\n",
    "- seaborn: The Seaborn package is a library for making statistical graphics in Python. It is built on top of matplotlib and pandas data structures. The plotting functions allow us to produce informative plots. Here I use seabron to creat heatmap plot from 2D array. This package is dataset-oriented, so we can focus on what the different elements of your plots mean, rather than on the details of how to draw them. More information about seaborn can be found in here: https://seaborn.pydata.org/\n",
    "\n",
    "- matplotlib: The Matplotlib package is a libarary for plotting in Python programming. It is built on top of NumPy and it provides API for putting plots into applications using GUI. Here I used matplotlib to add x and y labels and show the graph after creating heatmap plot from 2D array. It can also be used to plot dotplot, bar, stem, and etc. More information about matplotlib can be found in here: https://matplotlib.org/"
   ]
  },
  {
   "cell_type": "code",
   "execution_count": 80,
   "id": "7714125a-e2fe-4a41-b8cb-6d4e740d0c98",
   "metadata": {},
   "outputs": [],
   "source": [
    "from Bio import pairwise2\n",
    "from Bio.pairwise2 import format_alignment\n",
    "from Bio.PDB.PDBParser import PDBParser\n",
    "from Bio.PDB import *\n",
    "import nglview as nv\n",
    "from IPython.display import YouTubeVideo\n",
    "import numpy as np\n",
    "import seaborn as sns\n",
    "import matplotlib.pylab as plt"
   ]
  },
  {
   "cell_type": "markdown",
   "id": "fa2efa44-b932-4e2c-aaca-04b4a15aa9d8",
   "metadata": {},
   "source": [
    "## Part 2: Load in the data and perform Bioinformatics Analyses (pairwise sequencing, 3D protein alignment, 3D protein measurement)"
   ]
  },
  {
   "cell_type": "markdown",
   "id": "e29810e0-d527-43fc-9220-f64024e23ff0",
   "metadata": {},
   "source": [
    "The sequence data from below are downloaded from NCBI database. I used global alignment in here in order to find the best alignment over the entire lengths of the 2 sequences, i.e. What is the maximum similarity between sequence X and Y. In this method, we consider the entire length of the 2 sequences and try to match them to obtain the best alignment. It is obtained by inserting gaps (spaces) to X and Y until the length of the two sequences will be the same so that the two sequences are matched. We set a scoring scheme as match score = 1, mismatch score = 0 and gap penalty = 0."
   ]
  },
  {
   "cell_type": "code",
   "execution_count": 84,
   "id": "7884ea56-c913-4374-baa1-6d323b09e7c5",
   "metadata": {},
   "outputs": [
    {
     "name": "stdout",
     "output_type": "stream",
     "text": [
      "ttcggcacgaggcaaacaggcaattaagacatattcaatgtcgatgatgaagagcc--a--agtagctcctcg-gcctac--cttgg--ccatcctcttcttcttctc--aggtgcacatgcagcgaa-aatca--ctttcacaaa-caact-gcccca-acactg-tctggccaggaacct-taaccggt--gac-caaaaacctcag-ttatca-ctcacc-ggc-ttcgaac-t-agcatcca-aagctagccgat-c-ag-tg-gacg-ctccatc--t-cca-tggt--ctggtcgcttctggggcc-gaacca-g-atgctccacggac-gccg-ctggaaaa-ttcac-t-tgt-gaa--act-gcagactgtggc-tctggc-caggtcgcatg--caacggggc-a--ggc-gc-agttccaccag-caactttagtt-ga-aat-caca-attgcggcaaa-c-gg-gg-gt--caagattat-tat-gat-gttagccttgttgac-ggcttcaacttgcct-atgtctgtcgc--c-ccacaaggt-ggc-acg-ggcgag-tgcaagc-c--ctc-gtcttgccctgc-c-aat-gtt-aacaag--gtgt-gc-ccg-gctcc-a-ctt-caagt--gaaagcgg-ctgatgggagtgtca-tcag-ttgcaaaagc-gcttg--c-ct-tgc-gtt---t--ggtgattcg--a-agtactgct-gcactccgccg--aataat-acg-ccg-gagacatgtcctc-cc-acagag--tactctgagatct-ttg--ag-aa-gcagtgccctca-a-gcttat-agctac-gcttatgatgataa-aaacagc----acatttacc-tgcag-tggtggacctga-ctacgtc-attactttctgcccata-a-gcacg-a-a-atgggat-tat-a--tat-g------ca-gatg----a-t---gata----tct-g---t-t--tc-t-t---ta-tgta----a-c---a-at-aa---t--ga-----aga-agaa--taa-attc-cg-cggacgt-tgac-acattgctgt----tgtcaagaatt-t-gtaa-tact-a--at-ta-ca--c----gatca---aataaaggaac-a-aatat-t--at-att-taaaaaaaaa\n",
      "                         |||||  | |   || |||||||||||| ||  |  ||||| |||||  |||| |  |||    ||||||| |||  | | ||  |||||||||||||||| | |||    |||||| ||| ||| | |||||  ||| || ||||||||||||||  |||||  |  ||  |||||||||||  |||||| | || | ||  |||| |  | |||||||  ||||||| |  | | || |  |||  || |  |  | ||  |||   | |||||||||| ||||| ||| |  | ||||||||||||  |||  |||| ||| ||  | | ||  |    ||  ||||||||| || |||||  |||||  ||||  ||||  ||  |  ||  || | ||||||| | |||||||||   |  ||| || | ||| |  |  | | || || |   ||||||| | ||  ||  ||||||||||||||  ||||||||||||||  ||||||||     | ||||||||  ||  ||  |||||  ||||||  |  ||  |  |||||| |  | ||  | | |||  |  || | |  ||| | |   | | | |||    ||||| || |||||||||  | |  |  | ||||     | |||||  | |  ||  |||   |  ||| |  ||  | ||||||| | ||||||||||   || ||  ||  ||  |||||||| || | || ||| |   ||||||||||  | ||   |  || ||| ||||| |  | |||||  |||||  ||||||||||   | ||| ||     ||||||| | ||||  |||||||||| | ||||| | ||||||||||||||||  | | | | | | ||   || ||| |  ||| |      || |||     | |   ||||    ||| |   | |  |  | |   || | ||    | |   | || ||   |  ||     | | | ||  ||| |  | |  ||| |   ||   | ||||  ||    ||||  | ||| | || | | || |  || || ||  |    ||||    |||||| | |  | ||| | |  |  | | |        |\n",
      "-------------------------aagac--a-t---tg-cgatgatgaaga-ccctagtagtag-tcctc-agcct-cagctt--aaccatcct-ttc--c-t-tcggaggtgcacatgcagcg-acaat--ttctttca-aaaacaa-ttgcccc-taca-tggtctggccaggaacc-ctaacc--tccga-tcaaaaacctca-attatcaac-ca-cagg-gttcg-a-gttagcatcc-caagctag-c--ttccagct-agac-act-c--cggtgcc-gtgg-aac-ggtcgcttct-gggcccgaa-c-tggatgctccacgga-tgcc-tctgg-aaagtt--cgtctg-cg--ccac-cgcagactgt-gcctctgg-tcaggt--catgtgcaac--gg-taacgg-tgcca-ttccacc-ggcaactttag--cg-gaattca-atatt-c--c--agcaggcggag-gacaagatt-tcta-cga-cgttagccttgttga-tggcttcaacttgcc-catgtctgt---tactccacaagg-cgg-tac-cggcga-ctgcaag-acggct-ag--ttgccc-g-gcgaa-cg-tgaac--gcagt-ttg-tccgag-t--gagc-tgcaa--aagaaag-ggtctgatggga--g-c-gt--ggttgc-----ctgcttgagcgc-atg-tgttaaattcggt-a--cgccacagtactg-ttgcactccgcc-tcaa-aa-cac-tcc-agagacatg-cc-caccgaca-a-actactctgaga--tatt-cca-taacgca-tgccc-c-gacgctta-cagcta-tgcttatgatg---acaaa-ag-gggtacattta-catgca-atggtggacct-aactacg-ccattactttctgcccat-gatg-a-gcatacat---atatatgaactatagaaaggacaagat-ctttaataaagataggactctcgacatgtaat-gtgtcgataat-tagtccagctctatattaaacgtttgatcttta-ata-aaggtaaga--ctc-tcgg-c--atg--ta-attg--gtaacgtgtc--g-attattgt-agt-ctgactatgtatcaagcatttgatc-ttcaataaa-g-a-tagaat-tgtcca-ca-tgt--------a\n",
      "  Score=723\n",
      "\n",
      "ttcggcacgaggcaaacaggcaattaagacatattcaatgtcgatgatgaagagcc--a--agtagctcctcg-gcctac--cttgg--ccatcctcttcttcttctc--aggtgcacatgcagcgaa-aatca--ctttcacaaa-caact-gcccca-acactg-tctggccaggaacct-taaccggt--gac-caaaaacctcag-ttatca-ctcacc-ggc-ttcgaac-t-agcatcca-aagctagccgat-c-ag-tg-gacg-ctccatc--t-cca-tggt--ctggtcgcttctggggcc-gaacca-g-atgctccacggac-gccg-ctggaaaa-ttcac-t-tgt-gaa--act-gcagactgtggc-tctggc-caggtcgcatg--caacggggc-a--ggc-gc-agttccaccag-caactttagtt-ga-aat-caca-attgcggcaaa-c-gg-gg-gt--caagattat-tat-gat-gttagccttgttgac-ggcttcaacttgcct-atgtctgtcgc--c-ccacaaggt-ggc-acg-ggcgag-tgcaagc-c--ctc-gtcttgccctgc-c-aat-gtt-aacaag--gtgt-gc-ccg-gctcc-a-ctt-caagt--gaaagcgg-ctgatgggagtgtca-tcag-ttgcaaaagc-gcttg--c-ct-tgc-gtt---t--ggtgattcg--a-agtactgct-gcactccgccg--aataat-acg-ccg-gagacatgtcctc-cc-acagag--tactctgagatct-ttg--ag-aa-gcagtgccctca-a-gcttat-agctac-gcttatgatgataa-aaacagc----acatttacc-tgcag-tggtggacctga-ctacgtc-attactttctgcccata-a-gcacg-a-a-atgggat-tat-a--tat-g------ca-gatg----a-t---gata----tct-g---t-t--tc-t-t---ta-tgta----a-c---a-at-aa---t--ga-----aga-agaa--taa-attc-cg-cggacgt-tgac-acattgctgt----tgtcaagaatt-t-gtaa-tact-a--at-ta-ca--c----gatca---aataaaggaac-a-aatat-t--at-att-taaaaaaaaa\n",
      "                      |   ||||  | |   || |||||||||||| ||  |  ||||| |||||  |||| |  |||    ||||||| |||  | | ||  |||||||||||||||| | |||    |||||| ||| ||| | |||||  ||| || ||||||||||||||  |||||  |  ||  |||||||||||  |||||| | || | ||  |||| |  | |||||||  ||||||| |  | | || |  |||  || |  |  | ||  |||   | |||||||||| ||||| ||| |  | ||||||||||||  |||  |||| ||| ||  | | ||  |    ||  ||||||||| || |||||  |||||  ||||  ||||  ||  |  ||  || | ||||||| | |||||||||   |  ||| || | ||| |  |  | | || || |   ||||||| | ||  ||  ||||||||||||||  ||||||||||||||  ||||||||     | ||||||||  ||  ||  |||||  ||||||  |  ||  |  |||||| |  | ||  | | |||  |  || | |  ||| | |   | | | |||    ||||| || |||||||||  | |  |  | ||||     | |||||  | |  ||  |||   |  ||| |  ||  | ||||||| | ||||||||||   || ||  ||  ||  |||||||| || | || ||| |   ||||||||||  | ||   |  || ||| ||||| |  | |||||  |||||  ||||||||||   | ||| ||     ||||||| | ||||  |||||||||| | ||||| | ||||||||||||||||  | | | | | | ||   || ||| |  ||| |      || |||     | |   ||||    ||| |   | |  |  | |   || | ||    | |   | || ||   |  ||     | | | ||  ||| |  | |  ||| |   ||   | ||||  ||    ||||  | ||| | || | | || |  || || ||  |    ||||    |||||| | |  | ||| | |  |  | | |        |\n",
      "----------------------a---agac--a-t---tg-cgatgatgaaga-ccctagtagtag-tcctc-agcct-cagctt--aaccatcct-ttc--c-t-tcggaggtgcacatgcagcg-acaat--ttctttca-aaaacaa-ttgcccc-taca-tggtctggccaggaacc-ctaacc--tccga-tcaaaaacctca-attatcaac-ca-cagg-gttcg-a-gttagcatcc-caagctag-c--ttccagct-agac-act-c--cggtgcc-gtgg-aac-ggtcgcttct-gggcccgaa-c-tggatgctccacgga-tgcc-tctgg-aaagtt--cgtctg-cg--ccac-cgcagactgt-gcctctgg-tcaggt--catgtgcaac--gg-taacgg-tgcca-ttccacc-ggcaactttag--cg-gaattca-atatt-c--c--agcaggcggag-gacaagatt-tcta-cga-cgttagccttgttga-tggcttcaacttgcc-catgtctgt---tactccacaagg-cgg-tac-cggcga-ctgcaag-acggct-ag--ttgccc-g-gcgaa-cg-tgaac--gcagt-ttg-tccgag-t--gagc-tgcaa--aagaaag-ggtctgatggga--g-c-gt--ggttgc-----ctgcttgagcgc-atg-tgttaaattcggt-a--cgccacagtactg-ttgcactccgcc-tcaa-aa-cac-tcc-agagacatg-cc-caccgaca-a-actactctgaga--tatt-cca-taacgca-tgccc-c-gacgctta-cagcta-tgcttatgatg---acaaa-ag-gggtacattta-catgca-atggtggacct-aactacg-ccattactttctgcccat-gatg-a-gcatacat---atatatgaactatagaaaggacaagat-ctttaataaagataggactctcgacatgtaat-gtgtcgataat-tagtccagctctatattaaacgtttgatcttta-ata-aaggtaaga--ctc-tcgg-c--atg--ta-attg--gtaacgtgtc--g-attattgt-agt-ctgactatgtatcaagcatttgatc-ttcaataaa-g-a-tagaat-tgtcca-ca-tgt--------a\n",
      "  Score=723\n",
      "\n",
      "ttcggcacgaggcaaacaggcaattaagacatattcaatgtcgatgatgaagagcc--a--agtagctcctcg-gcctac--cttgg--ccatcctcttcttcttctc--aggtgcacatgcagcgaa-aatca--ctttcacaaa-caact-gcccca-acactg-tctggccaggaacct-taaccggt--gac-caaaaacctcag-ttatca-ctcacc-ggc-ttcgaac-t-agcatcca-aagctagccgat-c-ag-tg-gacg-ctccatc--t-cca-tggt--ctggtcgcttctggggcc-gaacca-g-atgctccacggac-gccg-ctggaaaa-ttcac-t-tgt-gaa--act-gcagactgtggc-tctggc-caggtcgcatg--caacggggc-a--ggc-gc-agttccaccag-caactttagtt-ga-aat-caca-attgcggcaaa-c-gg-gg-gt--caagattat-tat-gat-gttagccttgttgac-ggcttcaacttgcct-atgtctgtcgc--c-ccacaaggt-ggc-acg-ggcgag-tgcaagc-c--ctc-gtcttgccctgc-c-aat-gtt-aacaag--gtgt-gc-ccg-gctcc-a-ctt-caagt--gaaagcgg-ctgatgggagtgtca-tcag-ttgcaaaagc-gcttg--c-ct-tgc-gtt---t--ggtgattcg--a-agtactgct-gcactccgccg--aataat-acg-ccg-gagacatgtcctc-cc-acagag--tactctgagatct-ttg--ag-aa-gcagtgccctca-a-gcttat-agctac-gcttatgatgataa-aaacagc----acatttacc-tgcag-tggtggacctga-ctacgtc-attactttctgcccata-a-gcacg-a-a-atgggat-tat-a--tat-g------ca-gatg----a-t---gata----tct-g---t-t--tc-t-t---ta-tgta----a-c---a-at-aa---t--ga-----aga-agaa--taa-attc-cg-cggacgt-tgac-acattgctgt----tgtcaagaatt-t-gtaa-tact-a--at-ta-ca--c----gatca---aataaaggaac-a-aatat-t--at-att-taaaaaaaaa\n",
      "                     |    ||||  | |   || |||||||||||| ||  |  ||||| |||||  |||| |  |||    ||||||| |||  | | ||  |||||||||||||||| | |||    |||||| ||| ||| | |||||  ||| || ||||||||||||||  |||||  |  ||  |||||||||||  |||||| | || | ||  |||| |  | |||||||  ||||||| |  | | || |  |||  || |  |  | ||  |||   | |||||||||| ||||| ||| |  | ||||||||||||  |||  |||| ||| ||  | | ||  |    ||  ||||||||| || |||||  |||||  ||||  ||||  ||  |  ||  || | ||||||| | |||||||||   |  ||| || | ||| |  |  | | || || |   ||||||| | ||  ||  ||||||||||||||  ||||||||||||||  ||||||||     | ||||||||  ||  ||  |||||  ||||||  |  ||  |  |||||| |  | ||  | | |||  |  || | |  ||| | |   | | | |||    ||||| || |||||||||  | |  |  | ||||     | |||||  | |  ||  |||   |  ||| |  ||  | ||||||| | ||||||||||   || ||  ||  ||  |||||||| || | || ||| |   ||||||||||  | ||   |  || ||| ||||| |  | |||||  |||||  ||||||||||   | ||| ||     ||||||| | ||||  |||||||||| | ||||| | ||||||||||||||||  | | | | | | ||   || ||| |  ||| |      || |||     | |   ||||    ||| |   | |  |  | |   || | ||    | |   | || ||   |  ||     | | | ||  ||| |  | |  ||| |   ||   | ||||  ||    ||||  | ||| | || | | || |  || || ||  |    ||||    |||||| | |  | ||| | |  |  | | |        |\n",
      "---------------------a----agac--a-t---tg-cgatgatgaaga-ccctagtagtag-tcctc-agcct-cagctt--aaccatcct-ttc--c-t-tcggaggtgcacatgcagcg-acaat--ttctttca-aaaacaa-ttgcccc-taca-tggtctggccaggaacc-ctaacc--tccga-tcaaaaacctca-attatcaac-ca-cagg-gttcg-a-gttagcatcc-caagctag-c--ttccagct-agac-act-c--cggtgcc-gtgg-aac-ggtcgcttct-gggcccgaa-c-tggatgctccacgga-tgcc-tctgg-aaagtt--cgtctg-cg--ccac-cgcagactgt-gcctctgg-tcaggt--catgtgcaac--gg-taacgg-tgcca-ttccacc-ggcaactttag--cg-gaattca-atatt-c--c--agcaggcggag-gacaagatt-tcta-cga-cgttagccttgttga-tggcttcaacttgcc-catgtctgt---tactccacaagg-cgg-tac-cggcga-ctgcaag-acggct-ag--ttgccc-g-gcgaa-cg-tgaac--gcagt-ttg-tccgag-t--gagc-tgcaa--aagaaag-ggtctgatggga--g-c-gt--ggttgc-----ctgcttgagcgc-atg-tgttaaattcggt-a--cgccacagtactg-ttgcactccgcc-tcaa-aa-cac-tcc-agagacatg-cc-caccgaca-a-actactctgaga--tatt-cca-taacgca-tgccc-c-gacgctta-cagcta-tgcttatgatg---acaaa-ag-gggtacattta-catgca-atggtggacct-aactacg-ccattactttctgcccat-gatg-a-gcatacat---atatatgaactatagaaaggacaagat-ctttaataaagataggactctcgacatgtaat-gtgtcgataat-tagtccagctctatattaaacgtttgatcttta-ata-aaggtaaga--ctc-tcgg-c--atg--ta-attg--gtaacgtgtc--g-attattgt-agt-ctgactatgtatcaagcatttgatc-ttcaataaa-g-a-tagaat-tgtcca-ca-tgt--------a\n",
      "  Score=723\n",
      "\n",
      "ttcggcacgaggcaaacaggcaattaagacatattcaatgtcgatgatgaagagcc--a--agtagctcctcg-gcctac--cttgg--ccatcctcttcttcttctc--aggtgcacatgcagcgaa-aatca--ctttcacaaa-caact-gcccca-acactg-tctggccaggaacct-taaccggt--gac-caaaaacctcag-ttatca-ctcacc-ggc-ttcgaac-t-agcatcca-aagctagccgat-c-ag-tg-gacg-ctccatc--t-cca-tggt--ctggtcgcttctggggcc-gaacca-g-atgctccacggac-gccg-ctggaaaa-ttcac-t-tgt-gaa--act-gcagactgtggc-tctggc-caggtcgcatg--caacggggc-a--ggc-gc-agttccaccag-caactttagtt-ga-aat-caca-attgcggcaaa-c-gg-gg-gt--caagattat-tat-gat-gttagccttgttgac-ggcttcaacttgcct-atgtctgtcgc--c-ccacaaggt-ggc-acg-ggcgag-tgcaagc-c--ctc-gtcttgccctgc-c-aat-gtt-aacaag--gtgt-gc-ccg-gctcc-a-ctt-caagt--gaaagcgg-ctgatgggagtgtca-tcag-ttgcaaaagc-gcttg--c-ct-tgc-gtt---t--ggtgattcg--a-agtactgct-gcactccgccg--aataat-acg-ccg-gagacatgtcctc-cc-acagag--tactctgagatct-ttg--ag-aa-gcagtgccctca-a-gcttat-agctac-gcttatgatgataa-aaacagc----acatttacc-tgcag-tggtggacctga-ctacgtc-attactttctgcccata-a-gcacg-a-a-atgggat-tat-a--tat-g------ca-gatg----a-t---gata----tct-g---t-t--tc-t-t---ta-tgta----a-c---a-at-aa---t--ga-----aga-agaa--taa-attc-cg-cggacgt-tgac-acattgctgt----tgtcaagaatt-t-gtaa-tact-a--at-ta-ca--c----gatca---aataaaggaac-a-aatat-t--at-att-taaaaaaaaa\n",
      "                 |        ||||  | |   || |||||||||||| ||  |  ||||| |||||  |||| |  |||    ||||||| |||  | | ||  |||||||||||||||| | |||    |||||| ||| ||| | |||||  ||| || ||||||||||||||  |||||  |  ||  |||||||||||  |||||| | || | ||  |||| |  | |||||||  ||||||| |  | | || |  |||  || |  |  | ||  |||   | |||||||||| ||||| ||| |  | ||||||||||||  |||  |||| ||| ||  | | ||  |    ||  ||||||||| || |||||  |||||  ||||  ||||  ||  |  ||  || | ||||||| | |||||||||   |  ||| || | ||| |  |  | | || || |   ||||||| | ||  ||  ||||||||||||||  ||||||||||||||  ||||||||     | ||||||||  ||  ||  |||||  ||||||  |  ||  |  |||||| |  | ||  | | |||  |  || | |  ||| | |   | | | |||    ||||| || |||||||||  | |  |  | ||||     | |||||  | |  ||  |||   |  ||| |  ||  | ||||||| | ||||||||||   || ||  ||  ||  |||||||| || | || ||| |   ||||||||||  | ||   |  || ||| ||||| |  | |||||  |||||  ||||||||||   | ||| ||     ||||||| | ||||  |||||||||| | ||||| | ||||||||||||||||  | | | | | | ||   || ||| |  ||| |      || |||     | |   ||||    ||| |   | |  |  | |   || | ||    | |   | || ||   |  ||     | | | ||  ||| |  | |  ||| |   ||   | ||||  ||    ||||  | ||| | || | | || |  || || ||  |    ||||    |||||| | |  | ||| | |  |  | | |        |\n",
      "-----------------a--------agac--a-t---tg-cgatgatgaaga-ccctagtagtag-tcctc-agcct-cagctt--aaccatcct-ttc--c-t-tcggaggtgcacatgcagcg-acaat--ttctttca-aaaacaa-ttgcccc-taca-tggtctggccaggaacc-ctaacc--tccga-tcaaaaacctca-attatcaac-ca-cagg-gttcg-a-gttagcatcc-caagctag-c--ttccagct-agac-act-c--cggtgcc-gtgg-aac-ggtcgcttct-gggcccgaa-c-tggatgctccacgga-tgcc-tctgg-aaagtt--cgtctg-cg--ccac-cgcagactgt-gcctctgg-tcaggt--catgtgcaac--gg-taacgg-tgcca-ttccacc-ggcaactttag--cg-gaattca-atatt-c--c--agcaggcggag-gacaagatt-tcta-cga-cgttagccttgttga-tggcttcaacttgcc-catgtctgt---tactccacaagg-cgg-tac-cggcga-ctgcaag-acggct-ag--ttgccc-g-gcgaa-cg-tgaac--gcagt-ttg-tccgag-t--gagc-tgcaa--aagaaag-ggtctgatggga--g-c-gt--ggttgc-----ctgcttgagcgc-atg-tgttaaattcggt-a--cgccacagtactg-ttgcactccgcc-tcaa-aa-cac-tcc-agagacatg-cc-caccgaca-a-actactctgaga--tatt-cca-taacgca-tgccc-c-gacgctta-cagcta-tgcttatgatg---acaaa-ag-gggtacattta-catgca-atggtggacct-aactacg-ccattactttctgcccat-gatg-a-gcatacat---atatatgaactatagaaaggacaagat-ctttaataaagataggactctcgacatgtaat-gtgtcgataat-tagtccagctctatattaaacgtttgatcttta-ata-aaggtaaga--ctc-tcgg-c--atg--ta-attg--gtaacgtgtc--g-attattgt-agt-ctgactatgtatcaagcatttgatc-ttcaataaa-g-a-tagaat-tgtcca-ca-tgt--------a\n",
      "  Score=723\n",
      "\n",
      "ttcggcacgaggcaaacaggcaattaagacatattcaatgtcgatgatgaagagcc--a--agtagctcctcg-gcctac--cttgg--ccatcctcttcttcttctc--aggtgcacatgcagcgaa-aatca--ctttcacaaa-caact-gcccca-acactg-tctggccaggaacct-taaccggt--gac-caaaaacctcag-ttatca-ctcacc-ggc-ttcgaac-t-agcatcca-aagctagccgat-c-ag-tg-gacg-ctccatc--t-cca-tggt--ctggtcgcttctggggcc-gaacca-g-atgctccacggac-gccg-ctggaaaa-ttcac-t-tgt-gaa--act-gcagactgtggc-tctggc-caggtcgcatg--caacggggc-a--ggc-gc-agttccaccag-caactttagtt-ga-aat-caca-attgcggcaaa-c-gg-gg-gt--caagattat-tat-gat-gttagccttgttgac-ggcttcaacttgcct-atgtctgtcgc--c-ccacaaggt-ggc-acg-ggcgag-tgcaagc-c--ctc-gtcttgccctgc-c-aat-gtt-aacaag--gtgt-gc-ccg-gctcc-a-ctt-caagt--gaaagcgg-ctgatgggagtgtca-tcag-ttgcaaaagc-gcttg--c-ct-tgc-gtt---t--ggtgattcg--a-agtactgct-gcactccgccg--aataat-acg-ccg-gagacatgtcctc-cc-acagag--tactctgagatct-ttg--ag-aa-gcagtgccctca-a-gcttat-agctac-gcttatgatgataa-aaacagc----acatttacc-tgcag-tggtggacctga-ctacgtc-attactttctgcccata-a-gcacg-a-a-atgggat-tat-a--tat-g------ca-gatg----a-t---gata----tct-g---t-t--tc-t-t---ta-tgta----a-c---a-at-aa---t--ga-----aga-agaa--taa-attc-cg-cggacgt-tgac-acattgctgt----tgtcaagaatt-t-gtaa-tact-a--at-ta-ca--c----gatca---aataaaggaac-a-aatat-t--at-att-taaaaaaaaa\n",
      "               |          ||||  | |   || |||||||||||| ||  |  ||||| |||||  |||| |  |||    ||||||| |||  | | ||  |||||||||||||||| | |||    |||||| ||| ||| | |||||  ||| || ||||||||||||||  |||||  |  ||  |||||||||||  |||||| | || | ||  |||| |  | |||||||  ||||||| |  | | || |  |||  || |  |  | ||  |||   | |||||||||| ||||| ||| |  | ||||||||||||  |||  |||| ||| ||  | | ||  |    ||  ||||||||| || |||||  |||||  ||||  ||||  ||  |  ||  || | ||||||| | |||||||||   |  ||| || | ||| |  |  | | || || |   ||||||| | ||  ||  ||||||||||||||  ||||||||||||||  ||||||||     | ||||||||  ||  ||  |||||  ||||||  |  ||  |  |||||| |  | ||  | | |||  |  || | |  ||| | |   | | | |||    ||||| || |||||||||  | |  |  | ||||     | |||||  | |  ||  |||   |  ||| |  ||  | ||||||| | ||||||||||   || ||  ||  ||  |||||||| || | || ||| |   ||||||||||  | ||   |  || ||| ||||| |  | |||||  |||||  ||||||||||   | ||| ||     ||||||| | ||||  |||||||||| | ||||| | ||||||||||||||||  | | | | | | ||   || ||| |  ||| |      || |||     | |   ||||    ||| |   | |  |  | |   || | ||    | |   | || ||   |  ||     | | | ||  ||| |  | |  ||| |   ||   | ||||  ||    ||||  | ||| | || | | || |  || || ||  |    ||||    |||||| | |  | ||| | |  |  | | |        |\n",
      "---------------a----------agac--a-t---tg-cgatgatgaaga-ccctagtagtag-tcctc-agcct-cagctt--aaccatcct-ttc--c-t-tcggaggtgcacatgcagcg-acaat--ttctttca-aaaacaa-ttgcccc-taca-tggtctggccaggaacc-ctaacc--tccga-tcaaaaacctca-attatcaac-ca-cagg-gttcg-a-gttagcatcc-caagctag-c--ttccagct-agac-act-c--cggtgcc-gtgg-aac-ggtcgcttct-gggcccgaa-c-tggatgctccacgga-tgcc-tctgg-aaagtt--cgtctg-cg--ccac-cgcagactgt-gcctctgg-tcaggt--catgtgcaac--gg-taacgg-tgcca-ttccacc-ggcaactttag--cg-gaattca-atatt-c--c--agcaggcggag-gacaagatt-tcta-cga-cgttagccttgttga-tggcttcaacttgcc-catgtctgt---tactccacaagg-cgg-tac-cggcga-ctgcaag-acggct-ag--ttgccc-g-gcgaa-cg-tgaac--gcagt-ttg-tccgag-t--gagc-tgcaa--aagaaag-ggtctgatggga--g-c-gt--ggttgc-----ctgcttgagcgc-atg-tgttaaattcggt-a--cgccacagtactg-ttgcactccgcc-tcaa-aa-cac-tcc-agagacatg-cc-caccgaca-a-actactctgaga--tatt-cca-taacgca-tgccc-c-gacgctta-cagcta-tgcttatgatg---acaaa-ag-gggtacattta-catgca-atggtggacct-aactacg-ccattactttctgcccat-gatg-a-gcatacat---atatatgaactatagaaaggacaagat-ctttaataaagataggactctcgacatgtaat-gtgtcgataat-tagtccagctctatattaaacgtttgatcttta-ata-aaggtaaga--ctc-tcgg-c--atg--ta-attg--gtaacgtgtc--g-attattgt-agt-ctgactatgtatcaagcatttgatc-ttcaataaa-g-a-tagaat-tgtcca-ca-tgt--------a\n",
      "  Score=723\n",
      "\n",
      "ttcggcacgaggcaaacaggcaattaagacatattcaatgtcgatgatgaagagcc--a--agtagctcctcg-gcctac--cttgg--ccatcctcttcttcttctc--aggtgcacatgcagcgaa-aatca--ctttcacaaa-caact-gcccca-acactg-tctggccaggaacct-taaccggt--gac-caaaaacctcag-ttatca-ctcacc-ggc-ttcgaac-t-agcatcca-aagctagccgat-c-ag-tg-gacg-ctccatc--t-cca-tggt--ctggtcgcttctggggcc-gaacca-g-atgctccacggac-gccg-ctggaaaa-ttcac-t-tgt-gaa--act-gcagactgtggc-tctggc-caggtcgcatg--caacggggc-a--ggc-gc-agttccaccag-caactttagtt-ga-aat-caca-attgcggcaaa-c-gg-gg-gt--caagattat-tat-gat-gttagccttgttgac-ggcttcaacttgcct-atgtctgtcgc--c-ccacaaggt-ggc-acg-ggcgag-tgcaagc-c--ctc-gtcttgccctgc-c-aat-gtt-aacaag--gtgt-gc-ccg-gctcc-a-ctt-caagt--gaaagcgg-ctgatgggagtgtca-tcag-ttgcaaaagc-gcttg--c-ct-tgc-gtt---t--ggtgattcg--a-agtactgct-gcactccgccg--aataat-acg-ccg-gagacatgtcctc-cc-acagag--tactctgagatct-ttg--ag-aa-gcagtgccctca-a-gcttat-agctac-gcttatgatgataa-aaacagc----acatttacc-tgcag-tggtggacctga-ctacgtc-attactttctgcccata-a-gcacg-a-a-atgggat-tat-a--tat-g------ca-gatg----a-t---gata----tct-g---t-t--tc-t-t---ta-tgta----a-c---a-at-aa---t--ga-----aga-agaa--taa-attc-cg-cggacgt-tgac-acattgctgt----tgtcaagaatt-t-gtaa-tact-a--at-ta-ca--c----gatca---aataaaggaac-a-aatat-t--at-att-taaaaaaaaa\n",
      "              |           ||||  | |   || |||||||||||| ||  |  ||||| |||||  |||| |  |||    ||||||| |||  | | ||  |||||||||||||||| | |||    |||||| ||| ||| | |||||  ||| || ||||||||||||||  |||||  |  ||  |||||||||||  |||||| | || | ||  |||| |  | |||||||  ||||||| |  | | || |  |||  || |  |  | ||  |||   | |||||||||| ||||| ||| |  | ||||||||||||  |||  |||| ||| ||  | | ||  |    ||  ||||||||| || |||||  |||||  ||||  ||||  ||  |  ||  || | ||||||| | |||||||||   |  ||| || | ||| |  |  | | || || |   ||||||| | ||  ||  ||||||||||||||  ||||||||||||||  ||||||||     | ||||||||  ||  ||  |||||  ||||||  |  ||  |  |||||| |  | ||  | | |||  |  || | |  ||| | |   | | | |||    ||||| || |||||||||  | |  |  | ||||     | |||||  | |  ||  |||   |  ||| |  ||  | ||||||| | ||||||||||   || ||  ||  ||  |||||||| || | || ||| |   ||||||||||  | ||   |  || ||| ||||| |  | |||||  |||||  ||||||||||   | ||| ||     ||||||| | ||||  |||||||||| | ||||| | ||||||||||||||||  | | | | | | ||   || ||| |  ||| |      || |||     | |   ||||    ||| |   | |  |  | |   || | ||    | |   | || ||   |  ||     | | | ||  ||| |  | |  ||| |   ||   | ||||  ||    ||||  | ||| | || | | || |  || || ||  |    ||||    |||||| | |  | ||| | |  |  | | |        |\n",
      "--------------a-----------agac--a-t---tg-cgatgatgaaga-ccctagtagtag-tcctc-agcct-cagctt--aaccatcct-ttc--c-t-tcggaggtgcacatgcagcg-acaat--ttctttca-aaaacaa-ttgcccc-taca-tggtctggccaggaacc-ctaacc--tccga-tcaaaaacctca-attatcaac-ca-cagg-gttcg-a-gttagcatcc-caagctag-c--ttccagct-agac-act-c--cggtgcc-gtgg-aac-ggtcgcttct-gggcccgaa-c-tggatgctccacgga-tgcc-tctgg-aaagtt--cgtctg-cg--ccac-cgcagactgt-gcctctgg-tcaggt--catgtgcaac--gg-taacgg-tgcca-ttccacc-ggcaactttag--cg-gaattca-atatt-c--c--agcaggcggag-gacaagatt-tcta-cga-cgttagccttgttga-tggcttcaacttgcc-catgtctgt---tactccacaagg-cgg-tac-cggcga-ctgcaag-acggct-ag--ttgccc-g-gcgaa-cg-tgaac--gcagt-ttg-tccgag-t--gagc-tgcaa--aagaaag-ggtctgatggga--g-c-gt--ggttgc-----ctgcttgagcgc-atg-tgttaaattcggt-a--cgccacagtactg-ttgcactccgcc-tcaa-aa-cac-tcc-agagacatg-cc-caccgaca-a-actactctgaga--tatt-cca-taacgca-tgccc-c-gacgctta-cagcta-tgcttatgatg---acaaa-ag-gggtacattta-catgca-atggtggacct-aactacg-ccattactttctgcccat-gatg-a-gcatacat---atatatgaactatagaaaggacaagat-ctttaataaagataggactctcgacatgtaat-gtgtcgataat-tagtccagctctatattaaacgtttgatcttta-ata-aaggtaaga--ctc-tcgg-c--atg--ta-attg--gtaacgtgtc--g-attattgt-agt-ctgactatgtatcaagcatttgatc-ttcaataaa-g-a-tagaat-tgtcca-ca-tgt--------a\n",
      "  Score=723\n",
      "\n",
      "ttcggcacgaggcaaacaggcaattaagacatattcaatgtcgatgatgaagagcc--a--agtagctcctcg-gcctac--cttgg--ccatcctcttcttcttctc--aggtgcacatgcagcgaa-aatca--ctttcacaaa-caact-gcccca-acactg-tctggccaggaacct-taaccggt--gac-caaaaacctcag-ttatca-ctcacc-ggc-ttcgaac-t-agcatcca-aagctagccgat-c-ag-tg-gacg-ctccatc--t-cca-tggt--ctggtcgcttctggggcc-gaacca-g-atgctccacggac-gccg-ctggaaaa-ttcac-t-tgt-gaa--act-gcagactgtggc-tctggc-caggtcgcatg--caacggggc-a--ggc-gc-agttccaccag-caactttagtt-ga-aat-caca-attgcggcaaa-c-gg-gg-gt--caagattat-tat-gat-gttagccttgttgac-ggcttcaacttgcct-atgtctgtcgc--c-ccacaaggt-ggc-acg-ggcgag-tgcaagc-c--ctc-gtcttgccctgc-c-aat-gtt-aacaag--gtgt-gc-ccg-gctcc-a-ctt-caagt--gaaagcgg-ctgatgggagtgtca-tcag-ttgcaaaagc-gcttg--c-ct-tgc-gtt---t--ggtgattcg--a-agtactgct-gcactccgccg--aataat-acg-ccg-gagacatgtcctc-cc-acagag--tactctgagatct-ttg--ag-aa-gcagtgccctca-a-gcttat-agctac-gcttatgatgataa-aaacagc----acatttacc-tgcag-tggtggacctga-ctacgtc-attactttctgcccata-a-gcacg-a-a-atgggat-tat-a--tat-g------ca-gatg----a-t---gata----tct-g---t-t--tc-t-t---ta-tgta----a-c---a-at-aa---t--ga-----aga-agaa--taa-attc-cg-cggacgt-tgac-acattgctgt----tgtcaagaatt-t-gtaa-tact-a--at-ta-ca--c----gatca---aataaaggaac-a-aatat-t--at-att-taaaaaaaaa\n",
      "             |            ||||  | |   || |||||||||||| ||  |  ||||| |||||  |||| |  |||    ||||||| |||  | | ||  |||||||||||||||| | |||    |||||| ||| ||| | |||||  ||| || ||||||||||||||  |||||  |  ||  |||||||||||  |||||| | || | ||  |||| |  | |||||||  ||||||| |  | | || |  |||  || |  |  | ||  |||   | |||||||||| ||||| ||| |  | ||||||||||||  |||  |||| ||| ||  | | ||  |    ||  ||||||||| || |||||  |||||  ||||  ||||  ||  |  ||  || | ||||||| | |||||||||   |  ||| || | ||| |  |  | | || || |   ||||||| | ||  ||  ||||||||||||||  ||||||||||||||  ||||||||     | ||||||||  ||  ||  |||||  ||||||  |  ||  |  |||||| |  | ||  | | |||  |  || | |  ||| | |   | | | |||    ||||| || |||||||||  | |  |  | ||||     | |||||  | |  ||  |||   |  ||| |  ||  | ||||||| | ||||||||||   || ||  ||  ||  |||||||| || | || ||| |   ||||||||||  | ||   |  || ||| ||||| |  | |||||  |||||  ||||||||||   | ||| ||     ||||||| | ||||  |||||||||| | ||||| | ||||||||||||||||  | | | | | | ||   || ||| |  ||| |      || |||     | |   ||||    ||| |   | |  |  | |   || | ||    | |   | || ||   |  ||     | | | ||  ||| |  | |  ||| |   ||   | ||||  ||    ||||  | ||| | || | | || |  || || ||  |    ||||    |||||| | |  | ||| | |  |  | | |        |\n",
      "-------------a------------agac--a-t---tg-cgatgatgaaga-ccctagtagtag-tcctc-agcct-cagctt--aaccatcct-ttc--c-t-tcggaggtgcacatgcagcg-acaat--ttctttca-aaaacaa-ttgcccc-taca-tggtctggccaggaacc-ctaacc--tccga-tcaaaaacctca-attatcaac-ca-cagg-gttcg-a-gttagcatcc-caagctag-c--ttccagct-agac-act-c--cggtgcc-gtgg-aac-ggtcgcttct-gggcccgaa-c-tggatgctccacgga-tgcc-tctgg-aaagtt--cgtctg-cg--ccac-cgcagactgt-gcctctgg-tcaggt--catgtgcaac--gg-taacgg-tgcca-ttccacc-ggcaactttag--cg-gaattca-atatt-c--c--agcaggcggag-gacaagatt-tcta-cga-cgttagccttgttga-tggcttcaacttgcc-catgtctgt---tactccacaagg-cgg-tac-cggcga-ctgcaag-acggct-ag--ttgccc-g-gcgaa-cg-tgaac--gcagt-ttg-tccgag-t--gagc-tgcaa--aagaaag-ggtctgatggga--g-c-gt--ggttgc-----ctgcttgagcgc-atg-tgttaaattcggt-a--cgccacagtactg-ttgcactccgcc-tcaa-aa-cac-tcc-agagacatg-cc-caccgaca-a-actactctgaga--tatt-cca-taacgca-tgccc-c-gacgctta-cagcta-tgcttatgatg---acaaa-ag-gggtacattta-catgca-atggtggacct-aactacg-ccattactttctgcccat-gatg-a-gcatacat---atatatgaactatagaaaggacaagat-ctttaataaagataggactctcgacatgtaat-gtgtcgataat-tagtccagctctatattaaacgtttgatcttta-ata-aaggtaaga--ctc-tcgg-c--atg--ta-attg--gtaacgtgtc--g-attattgt-agt-ctgactatgtatcaagcatttgatc-ttcaataaa-g-a-tagaat-tgtcca-ca-tgt--------a\n",
      "  Score=723\n",
      "\n",
      "ttcggcacgaggcaaacaggcaattaagacatattcaatgtcgatgatgaagagcc--a--agtagctcctcg-gcctac--cttgg--ccatcctcttcttcttctc--aggtgcacatgcagcgaa-aatca--ctttcacaaa-caact-gcccca-acactg-tctggccaggaacct-taaccggt--gac-caaaaacctcag-ttatca-ctcacc-ggc-ttcgaac-t-agcatcca-aagctagccgat-c-ag-tg-gacg-ctccatc--t-cca-tggt--ctggtcgcttctggggcc-gaacca-g-atgctccacggac-gccg-ctggaaaa-ttcac-t-tgt-gaa--act-gcagactgtggc-tctggc-caggtcgcatg--caacggggc-a--ggc-gc-agttccaccag-caactttagtt-ga-aat-caca-attgcggcaaa-c-gg-gg-gt--caagattat-tat-gat-gttagccttgttgac-ggcttcaacttgcct-atgtctgtcgc--c-ccacaaggt-ggc-acg-ggcgag-tgcaagc-c--ctc-gtcttgccctgc-c-aat-gtt-aacaag--gtgt-gc-ccg-gctcc-a-ctt-caagt--gaaagcgg-ctgatgggagtgtca-tcag-ttgcaaaagc-gcttg--c-ct-tgc-gtt---t--ggtgattcg--a-agtactgct-gcactccgccg--aataat-acg-ccg-gagacatgtcctc-cc-acagag--tactctgagatct-ttg--ag-aa-gcagtgccctca-a-gcttat-agctac-gcttatgatgataa-aaacagc----acatttacc-tgcag-tggtggacctga-ctacgtc-attactttctgcccata-a-gcacg-a-a-atgggat-tat-a--tat-g------ca-gatg----a-t---gata----tct-g---t-t--tc-t-t---ta-tgta----a-c---a-at-aa---t--ga-----aga-agaa--taa-attc-cg-cggacgt-tgac-acattgctgt----tgtcaagaatt-t-gtaa-tact-a--at-ta-ca--c----gatca---aataaaggaac-a-aatat-t--at-att-taaaaaaaaa\n",
      "         |                ||||  | |   || |||||||||||| ||  |  ||||| |||||  |||| |  |||    ||||||| |||  | | ||  |||||||||||||||| | |||    |||||| ||| ||| | |||||  ||| || ||||||||||||||  |||||  |  ||  |||||||||||  |||||| | || | ||  |||| |  | |||||||  ||||||| |  | | || |  |||  || |  |  | ||  |||   | |||||||||| ||||| ||| |  | ||||||||||||  |||  |||| ||| ||  | | ||  |    ||  ||||||||| || |||||  |||||  ||||  ||||  ||  |  ||  || | ||||||| | |||||||||   |  ||| || | ||| |  |  | | || || |   ||||||| | ||  ||  ||||||||||||||  ||||||||||||||  ||||||||     | ||||||||  ||  ||  |||||  ||||||  |  ||  |  |||||| |  | ||  | | |||  |  || | |  ||| | |   | | | |||    ||||| || |||||||||  | |  |  | ||||     | |||||  | |  ||  |||   |  ||| |  ||  | ||||||| | ||||||||||   || ||  ||  ||  |||||||| || | || ||| |   ||||||||||  | ||   |  || ||| ||||| |  | |||||  |||||  ||||||||||   | ||| ||     ||||||| | ||||  |||||||||| | ||||| | ||||||||||||||||  | | | | | | ||   || ||| |  ||| |      || |||     | |   ||||    ||| |   | |  |  | |   || | ||    | |   | || ||   |  ||     | | | ||  ||| |  | |  ||| |   ||   | ||||  ||    ||||  | ||| | || | | || |  || || ||  |    ||||    |||||| | |  | ||| | |  |  | | |        |\n",
      "---------a----------------agac--a-t---tg-cgatgatgaaga-ccctagtagtag-tcctc-agcct-cagctt--aaccatcct-ttc--c-t-tcggaggtgcacatgcagcg-acaat--ttctttca-aaaacaa-ttgcccc-taca-tggtctggccaggaacc-ctaacc--tccga-tcaaaaacctca-attatcaac-ca-cagg-gttcg-a-gttagcatcc-caagctag-c--ttccagct-agac-act-c--cggtgcc-gtgg-aac-ggtcgcttct-gggcccgaa-c-tggatgctccacgga-tgcc-tctgg-aaagtt--cgtctg-cg--ccac-cgcagactgt-gcctctgg-tcaggt--catgtgcaac--gg-taacgg-tgcca-ttccacc-ggcaactttag--cg-gaattca-atatt-c--c--agcaggcggag-gacaagatt-tcta-cga-cgttagccttgttga-tggcttcaacttgcc-catgtctgt---tactccacaagg-cgg-tac-cggcga-ctgcaag-acggct-ag--ttgccc-g-gcgaa-cg-tgaac--gcagt-ttg-tccgag-t--gagc-tgcaa--aagaaag-ggtctgatggga--g-c-gt--ggttgc-----ctgcttgagcgc-atg-tgttaaattcggt-a--cgccacagtactg-ttgcactccgcc-tcaa-aa-cac-tcc-agagacatg-cc-caccgaca-a-actactctgaga--tatt-cca-taacgca-tgccc-c-gacgctta-cagcta-tgcttatgatg---acaaa-ag-gggtacattta-catgca-atggtggacct-aactacg-ccattactttctgcccat-gatg-a-gcatacat---atatatgaactatagaaaggacaagat-ctttaataaagataggactctcgacatgtaat-gtgtcgataat-tagtccagctctatattaaacgtttgatcttta-ata-aaggtaaga--ctc-tcgg-c--atg--ta-attg--gtaacgtgtc--g-attattgt-agt-ctgactatgtatcaagcatttgatc-ttcaataaa-g-a-tagaat-tgtcca-ca-tgt--------a\n",
      "  Score=723\n",
      "\n",
      "ttcggcacgaggcaaacaggcaattaagacatattcaatgtcgatgatgaagagcc--a--agtagctcctcg-gcctac--cttgg--ccatcctcttcttcttctc--aggtgcacatgcagcgaa-aatca--ctttcacaaa-caact-gcccca-acactg-tctggccaggaacct-taaccggt--gac-caaaaacctcag-ttatca-ctcacc-ggc-ttcgaac-t-agcatcca-aagctagccgat-c-ag-tg-gacg-ctccatc--t-cca-tggt--ctggtcgcttctggggcc-gaacca-g-atgctccacggac-gccg-ctggaaaa-ttcac-t-tgt-gaa--act-gcagactgtggc-tctggc-caggtcgcatg--caacggggc-a--ggc-gc-agttccaccag-caactttagtt-ga-aat-caca-attgcggcaaa-c-gg-gg-gt--caagattat-tat-gat-gttagccttgttgac-ggcttcaacttgcct-atgtctgtcgc--c-ccacaaggt-ggc-acg-ggcgag-tgcaagc-c--ctc-gtcttgccctgc-c-aat-gtt-aacaag--gtgt-gc-ccg-gctcc-a-ctt-caagt--gaaagcgg-ctgatgggagtgtca-tcag-ttgcaaaagc-gcttg--c-ct-tgc-gtt---t--ggtgattcg--a-agtactgct-gcactccgccg--aataat-acg-ccg-gagacatgtcctc-cc-acagag--tactctgagatct-ttg--ag-aa-gcagtgccctca-a-gcttat-agctac-gcttatgatgataa-aaacagc----acatttacc-tgcag-tggtggacctga-ctacgtc-attactttctgcccata-a-gcacg-a-a-atgggat-tat-a--tat-g------ca-gatg----a-t---gata----tct-g---t-t--tc-t-t---ta-tgta----a-c---a-at-aa---t--ga-----aga-agaa--taa-attc-cg-cggacgt-tgac-acattgctgt----tgtcaagaatt-t-gtaa-tact-a--at-ta-ca--c----gatca---aataaaggaac-a-aatat-t--at-att-taaaaaaaaa\n",
      "      |                   ||||  | |   || |||||||||||| ||  |  ||||| |||||  |||| |  |||    ||||||| |||  | | ||  |||||||||||||||| | |||    |||||| ||| ||| | |||||  ||| || ||||||||||||||  |||||  |  ||  |||||||||||  |||||| | || | ||  |||| |  | |||||||  ||||||| |  | | || |  |||  || |  |  | ||  |||   | |||||||||| ||||| ||| |  | ||||||||||||  |||  |||| ||| ||  | | ||  |    ||  ||||||||| || |||||  |||||  ||||  ||||  ||  |  ||  || | ||||||| | |||||||||   |  ||| || | ||| |  |  | | || || |   ||||||| | ||  ||  ||||||||||||||  ||||||||||||||  ||||||||     | ||||||||  ||  ||  |||||  ||||||  |  ||  |  |||||| |  | ||  | | |||  |  || | |  ||| | |   | | | |||    ||||| || |||||||||  | |  |  | ||||     | |||||  | |  ||  |||   |  ||| |  ||  | ||||||| | ||||||||||   || ||  ||  ||  |||||||| || | || ||| |   ||||||||||  | ||   |  || ||| ||||| |  | |||||  |||||  ||||||||||   | ||| ||     ||||||| | ||||  |||||||||| | ||||| | ||||||||||||||||  | | | | | | ||   || ||| |  ||| |      || |||     | |   ||||    ||| |   | |  |  | |   || | ||    | |   | || ||   |  ||     | | | ||  ||| |  | |  ||| |   ||   | ||||  ||    ||||  | ||| | || | | || |  || || ||  |    ||||    |||||| | |  | ||| | |  |  | | |        |\n",
      "------a-------------------agac--a-t---tg-cgatgatgaaga-ccctagtagtag-tcctc-agcct-cagctt--aaccatcct-ttc--c-t-tcggaggtgcacatgcagcg-acaat--ttctttca-aaaacaa-ttgcccc-taca-tggtctggccaggaacc-ctaacc--tccga-tcaaaaacctca-attatcaac-ca-cagg-gttcg-a-gttagcatcc-caagctag-c--ttccagct-agac-act-c--cggtgcc-gtgg-aac-ggtcgcttct-gggcccgaa-c-tggatgctccacgga-tgcc-tctgg-aaagtt--cgtctg-cg--ccac-cgcagactgt-gcctctgg-tcaggt--catgtgcaac--gg-taacgg-tgcca-ttccacc-ggcaactttag--cg-gaattca-atatt-c--c--agcaggcggag-gacaagatt-tcta-cga-cgttagccttgttga-tggcttcaacttgcc-catgtctgt---tactccacaagg-cgg-tac-cggcga-ctgcaag-acggct-ag--ttgccc-g-gcgaa-cg-tgaac--gcagt-ttg-tccgag-t--gagc-tgcaa--aagaaag-ggtctgatggga--g-c-gt--ggttgc-----ctgcttgagcgc-atg-tgttaaattcggt-a--cgccacagtactg-ttgcactccgcc-tcaa-aa-cac-tcc-agagacatg-cc-caccgaca-a-actactctgaga--tatt-cca-taacgca-tgccc-c-gacgctta-cagcta-tgcttatgatg---acaaa-ag-gggtacattta-catgca-atggtggacct-aactacg-ccattactttctgcccat-gatg-a-gcatacat---atatatgaactatagaaaggacaagat-ctttaataaagataggactctcgacatgtaat-gtgtcgataat-tagtccagctctatattaaacgtttgatcttta-ata-aaggtaaga--ctc-tcgg-c--atg--ta-attg--gtaacgtgtc--g-attattgt-agt-ctgactatgtatcaagcatttgatc-ttcaataaa-g-a-tagaat-tgtcca-ca-tgt--------a\n",
      "  Score=723\n",
      "\n"
     ]
    }
   ],
   "source": [
    "# Define two sequences to be aligned\n",
    "Pru_av_2 = \"ttcggcacgaggcaaacaggcaattaagacatattcaatgtcgatgatgaagagccaagtagctcctcggcctaccttggccatcctcttcttcttctcaggtgcacatgcagcgaaaatcactttcacaaacaactgccccaacactgtctggccaggaaccttaaccggtgaccaaaaacctcagttatcactcaccggcttcgaactagcatccaaagctagccgatcagtggacgctccatctccatggtctggtcgcttctggggccgaaccagatgctccacggacgccgctggaaaattcacttgtgaaactgcagactgtggctctggccaggtcgcatgcaacggggcaggcgcagttccaccagcaactttagttgaaatcacaattgcggcaaacgggggtcaagattattatgatgttagccttgttgacggcttcaacttgcctatgtctgtcgccccacaaggtggcacgggcgagtgcaagccctcgtcttgccctgccaatgttaacaaggtgtgcccggctccacttcaagtgaaagcggctgatgggagtgtcatcagttgcaaaagcgcttgccttgcgtttggtgattcgaagtactgctgcactccgccgaataatacgccggagacatgtcctcccacagagtactctgagatctttgagaagcagtgccctcaagcttatagctacgcttatgatgataaaaacagcacatttacctgcagtggtggacctgactacgtcattactttctgcccataagcacgaaatgggattatatatgcagatgatgatatctgtttctttatgtaacaataatgaagaagaataaattccgcggacgttgacacattgctgttgtcaagaatttgtaatactaattacacgatcaaataaaggaacaaatattatatttaaaaaaaaa\"\n",
    "Mal_d_2 = \"aagacattgcgatgatgaagaccctagtagtagtcctcagcctcagcttaaccatcctttccttcggaggtgcacatgcagcgacaatttctttcaaaaacaattgcccctacatggtctggccaggaaccctaacctccgatcaaaaacctcaattatcaaccacagggttcgagttagcatcccaagctagcttccagctagacactccggtgccgtggaacggtcgcttctgggcccgaactggatgctccacggatgcctctggaaagttcgtctgcgccaccgcagactgtgcctctggtcaggtcatgtgcaacggtaacggtgccattccaccggcaactttagcggaattcaatattccagcaggcggaggacaagatttctacgacgttagccttgttgatggcttcaacttgcccatgtctgttactccacaaggcggtaccggcgactgcaagacggctagttgcccggcgaacgtgaacgcagtttgtccgagtgagctgcaaaagaaagggtctgatgggagcgtggttgcctgcttgagcgcatgtgttaaattcggtacgccacagtactgttgcactccgcctcaaaacactccagagacatgcccaccgacaaactactctgagatattccataacgcatgccccgacgcttacagctatgcttatgatgacaaaaggggtacatttacatgcaatggtggacctaactacgccattactttctgcccatgatgagcatacatatatatgaactatagaaaggacaagatctttaataaagataggactctcgacatgtaatgtgtcgataattagtccagctctatattaaacgtttgatctttaataaaggtaagactctcggcatgtaattggtaacgtgtcgattattgtagtctgactatgtatcaagcatttgatcttcaataaagatagaattgtccacatgta\"\n",
    "\n",
    "# Get a list of the global alignments between the two sequences satisfying the given scoring\n",
    "# A match score is the score of identical chars, else mismatch score.\n",
    "# Same open and extend gap penalties for both sequences.\n",
    "# Use built in function pairwise2.align. globalxx to perform alignment.\n",
    "alignments = pairwise2.align.globalxx(Pru_av_2, Mal_d_2)\n",
    "\n",
    "# Use format_alignment method to format the alignments in the list\n",
    "# check that the alignment performed correctly by using the line below\n",
    "# this is a code check\n",
    "for a in alignments:\n",
    "    print(format_alignment(*a))\n"
   ]
  },
  {
   "cell_type": "markdown",
   "id": "d92f7a72-4f9d-483f-8a0e-91cd6da3f7b7",
   "metadata": {},
   "source": [
    "## Part 3: Plot the result to show the pairwise alignment scores between Mal_d_2 and Pru_av_2 sequences."
   ]
  },
  {
   "cell_type": "markdown",
   "id": "389332c5-5b34-44ea-8104-4624e7a9dbee",
   "metadata": {},
   "source": [
    "A heatmap is a data visualization technique that shows magnitude of a phenomenon as color in two dimensions. The colors here are showing if a match has been found between two sequences. White means a match and black means a mismatch."
   ]
  },
  {
   "cell_type": "code",
   "execution_count": 76,
   "id": "6fe70cd6-ce04-4a1c-8c33-1705d91e17de",
   "metadata": {},
   "outputs": [
    {
     "name": "stdout",
     "output_type": "stream",
     "text": [
      "[[0. 0. 0. ... 1. 1. 1.]\n",
      " [0. 0. 0. ... 1. 1. 1.]\n",
      " [0. 0. 0. ... 0. 0. 0.]\n",
      " ...\n",
      " [0. 0. 0. ... 0. 0. 0.]\n",
      " [1. 1. 0. ... 0. 0. 0.]\n",
      " [0. 0. 0. ... 1. 1. 1.]]\n"
     ]
    }
   ],
   "source": [
    "#create empty 2D matrix array, Define a global variable arr based on the function defined\n",
    "# below.\n",
    "arr = np.zeros((len(Mal_d_2),len(Pru_av_2)))\n",
    "\n",
    "#define function to populate the matrix based on alignment score\n",
    "def heatmapMatrix(a, b):\n",
    "    #check if two sequences are valid\n",
    "    if a is None or b is None:\n",
    "        print(\"Not a valid sequence\")\n",
    "        return\n",
    "    #iterate through every nucleotide in the sequences\n",
    "    for p in range(len(Mal_d_2)):\n",
    "        for q in range(len(Pru_av_2)):\n",
    "            if(a[p] == b[q]):\n",
    "                arr[p,q] = 1 # Updating the counter when characters are same at an index             \n",
    "\n",
    "heatmapMatrix(Mal_d_2,Pru_av_2)\n",
    "\n",
    "#this is a code check\n",
    "print(arr)\n"
   ]
  },
  {
   "cell_type": "markdown",
   "id": "a14bdd31-0d64-46eb-a9f7-b61527ec6a5d",
   "metadata": {},
   "source": [
    "Here we are using matplotlib and seaborn to create a heatmap plot that will be printed out below. The x and y axes will be labeled based on the position in sequences. The color bar is added, white means a match (score 1.0) and black means a mismatch (score 0.0). X and y axis ticks are added, and the plot is saved and displayed. Heatmaps are a data visualization technique for viewing the magnitude of phenomenon as a color out of a gradient of colors. Heatmaps are 2D graphs and can often be used to show the relative amount of a substance, or in this case, the alignment scores between all nucleotides compared. This sort of plot could be used to compare the alignment scores between a set of sequences."
   ]
  },
  {
   "cell_type": "code",
   "execution_count": 77,
   "id": "6a93e92b-e918-4f71-980d-b446e50c7e4b",
   "metadata": {},
   "outputs": [
    {
     "data": {
      "image/png": "[encoded data removed]",
      "text/plain": [
       "<Figure size 432x288 with 2 Axes>"
      ]
     },
     "metadata": {
      "needs_background": "light"
     },
     "output_type": "display_data"
    }
   ],
   "source": [
    "#use built in function heatmap to create heatmap, passing in arr created before and store the final result in the variable ax\n",
    "#title with Heatmap of pairwise alignment\n",
    "ax = sns.heatmap(arr).set(title='Heatmap of pairwise alignment')\n",
    "plt.xlabel(\"Pru_av_2 Sequence\")\n",
    "plt.ylabel(\"Mal_d_2 Sequence\")\n",
    "#show the plot\n",
    "plt.show()"
   ]
  },
  {
   "cell_type": "markdown",
   "id": "e4eaeaa8-c439-4d8c-a599-ca3bfca8229b",
   "metadata": {},
   "source": [
    "## Part 3B: show the protein structure from RCSB PDB for the interested proteins, and performed protein alignment through Pymol."
   ]
  },
  {
   "cell_type": "markdown",
   "id": "c65469f6-6905-4ff8-aef7-49823d894e29",
   "metadata": {},
   "source": [
    "Then, I performed 3D protein alignment through pymol. I get the pathogenesis response proteins in apples (Mal d 2) which has id: 5MMU, and the pathogenesis response proteins in cherry (Pru av 2) which has id: 1E09 from RCSB PDB. Here I show the protein 3D strucutre for both proteins.\n",
    "Source: https://www.rcsb.org/search?request=%7B%22query%22%3A%7B%22type%22%3A%22group%22%2C%22nodes%22%3A%5B%7B%22type%22%3A%22group%22%2C%22nodes%22%3A%5B%7B%22type%22%3A%22group%22%2C%22nodes%22%3A%5B%7B%22type%22%3A%22terminal%22%2C%22service%22%3A%22text%22%2C%22parameters%22%3A%7B%22attribute%22%3A%22struct_keywords.text%22%2C%22operator%22%3A%22contains_phrase%22%2C%22value%22%3A%22PR-10%20protein%20apple%20allergen%2C%20ALLERGEN%22%7D%7D%5D%2C%22logical_operator%22%3A%22and%22%7D%5D%2C%22logical_operator%22%3A%22and%22%2C%22label%22%3A%22text%22%7D%5D%2C%22logical_operator%22%3A%22and%22%7D%2C%22return_type%22%3A%22entry%22%2C%22request_info%22%3A%7B%22query_id%22%3A%22be8e85741a18a79e455f977d6bc4d7d1%22%7D%2C%22request_options%22%3A%7B%22pager%22%3A%7B%22start%22%3A0%2C%22rows%22%3A25%7D%2C%22scoring_strategy%22%3A%22combined%22%2C%22sort%22%3A%5B%7B%22sort_by%22%3A%22score%22%2C%22direction%22%3A%22desc%22%7D%5D%7D%7D"
   ]
  },
  {
   "cell_type": "code",
   "execution_count": 86,
   "id": "6fc460f9-27ed-455b-b433-86e565a16e78",
   "metadata": {
    "tags": []
   },
   "outputs": [
    {
     "data": {
      "application/vnd.jupyter.widget-view+json": {
       "model_id": "500a435ea3274cf3ae3e6bb70a4e4ed5",
       "version_major": 2,
       "version_minor": 0
      },
      "text/plain": [
       "NGLWidget()"
      ]
     },
     "metadata": {},
     "output_type": "display_data"
    }
   ],
   "source": [
    "view = nglview.show_pdbid(\"5MMU\")  # load \"5MMU\" from RCSB PDB\n",
    "view"
   ]
  },
  {
   "cell_type": "code",
   "execution_count": 82,
   "id": "9fb21ee1-13b5-4843-b58d-c8748d563f7a",
   "metadata": {},
   "outputs": [
    {
     "name": "stdout",
     "output_type": "stream",
     "text": [
      "[32.285 30.523 14.656] - [34.66  31.285 17.526] = 3.802388906478882\n"
     ]
    }
   ],
   "source": [
    "#perform 3D protein measurement\n",
    "parser = PDBParser()\n",
    "structure = parser.get_structure(\"5MMU\", \"5mmu.pdb\")\n",
    "\n",
    "residues = [r for r in structure.get_residues()]\n",
    "# Calculate the distance between the alpha carbons for a pair of residues\n",
    "one  = residues[0][\"CA\"].get_coord()\n",
    "two = residues[1][\"CA\"].get_coord()\n",
    "print('{} - {} = {}'.format(one,two, numpy.linalg.norm(one-two)))"
   ]
  },
  {
   "cell_type": "code",
   "execution_count": 79,
   "id": "74455f9a-6378-4452-a3a6-619cdb0e65de",
   "metadata": {},
   "outputs": [
    {
     "data": {
      "application/vnd.jupyter.widget-view+json": {
       "model_id": "f7a677bba3c7434dab1e4756ae0b9bce",
       "version_major": 2,
       "version_minor": 0
      },
      "text/plain": [
       "NGLWidget()"
      ]
     },
     "metadata": {},
     "output_type": "display_data"
    }
   ],
   "source": [
    "view2 = nglview.show_pdbid(\"1E09\")  # load \"1E09\" from RCSB PDB and display viewer widget\n",
    "view2"
   ]
  },
  {
   "cell_type": "code",
   "execution_count": 83,
   "id": "24a1dedb-faf7-4552-a177-54c8790bb047",
   "metadata": {},
   "outputs": [
    {
     "name": "stdout",
     "output_type": "stream",
     "text": [
      "[-6.219 41.817  0.153] - [-5.937 42.038 -3.653] = 3.822826385498047\n"
     ]
    }
   ],
   "source": [
    "#perform 3D protein measurement\n",
    "parser = PDBParser()\n",
    "structure = parser.get_structure(\"1E09\", \"1e09.pdb\")\n",
    "\n",
    "residues = [r for r in structure.get_residues()]\n",
    "# Calculate the distance between the alpha carbons for a pair of residues\n",
    "one  = residues[0][\"CA\"].get_coord()\n",
    "two = residues[1][\"CA\"].get_coord()\n",
    "print('{} - {} = {}'.format(one,two, numpy.linalg.norm(one-two)))"
   ]
  },
  {
   "cell_type": "markdown",
   "id": "874e044e-3232-4c30-a04e-6866ba6ffd6f",
   "metadata": {},
   "source": [
    "- Then, the following code has been put into Pymol to perform the protein alignment:"
   ]
  },
  {
   "cell_type": "markdown",
   "id": "caa14289-9817-4492-b2f1-724598bb7e09",
   "metadata": {},
   "source": [
    "PyMOL>fetch 5MMU\n",
    "TITLE     NMR solution structure of the major apple allergen Mal d 1\n",
    " ExecutiveLoad-Detail: Detected mmCIF\n",
    " CmdLoad: \"./5mmu.cif\" loaded as \"5MMU\".\n",
    " \n",
    " PyMOL>fetch 1E09\n",
    "TITLE     Solution Structure of the Major Cherry Allergen Pru av 1\n",
    " ExecutiveLoad-Detail: Detected mmCIF\n",
    " CmdLoad: \"./1e09.cif\" loaded as \"1E09\".\n",
    " You clicked /2AHN/A/A/TRP`52/CA\n",
    " Selector: selection \"sele\" defined with 14 atoms.\n",
    " \n",
    "PyMOL>align 5MMU, 1E09\n",
    " Match: read scoring matrix.\n",
    " Match: assigning 158 x 159 pairwise scores.\n",
    " MatchAlign: aligning residues (158 vs 159)...\n",
    " MatchAlign: score 697.000\n",
    " ExecutiveAlign: 2354 atoms aligned.\n",
    " ExecutiveRMS: 74 atoms rejected during cycle 1 (RMSD=2.72).\n",
    " ExecutiveRMS: 62 atoms rejected during cycle 2 (RMSD=2.37).\n",
    " ExecutiveRMS: 28 atoms rejected during cycle 3 (RMSD=2.25).\n",
    " ExecutiveRMS: 16 atoms rejected during cycle 4 (RMSD=2.20).\n",
    " ExecutiveRMS: 12 atoms rejected during cycle 5 (RMSD=2.18).\n",
    " Executive: RMSD =    2.157 (2162 to 2162 atoms)"
   ]
  },
  {
   "cell_type": "markdown",
   "id": "67631da3-8078-42a7-8c6d-512b9bfec76b",
   "metadata": {},
   "source": [
    "An animation movie has been created to show the protein alignment:"
   ]
  },
  {
   "cell_type": "code",
   "execution_count": 32,
   "id": "e7970859-7a32-43e7-9151-55a4a3451f6b",
   "metadata": {},
   "outputs": [
    {
     "data": {
      "image/jpeg": "[encoded data removed]",
      "text/html": [
       "\n",
       "        <iframe\n",
       "            width=\"600\"\n",
       "            height=\"300\"\n",
       "            src=\"https://www.youtube.com/embed/6hkD1EdG_a8\"\n",
       "            frameborder=\"0\"\n",
       "            allowfullscreen\n",
       "            \n",
       "        ></iframe>\n",
       "        "
      ],
      "text/plain": [
       "<IPython.lib.display.YouTubeVideo at 0x7fd8264ef910>"
      ]
     },
     "execution_count": 32,
     "metadata": {},
     "output_type": "execute_result"
    }
   ],
   "source": [
    "YouTubeVideo('6hkD1EdG_a8', width=600, height=300)"
   ]
  },
  {
   "cell_type": "markdown",
   "id": "53d8bee9-1f6e-4028-9d7c-f589fa738138",
   "metadata": {},
   "source": [
    "## Part 4: Analysis of the results"
   ]
  },
  {
   "cell_type": "markdown",
   "id": "b265e808-54a8-4d4b-9739-1c2c8837e4a3",
   "metadata": {},
   "source": [
    "The pairwise alginment code returns a high alignment score (723) between Pru_av_2 and Mal_d_2. This indicates a potential functional and structural relationships between nucleic acid sequences in pathogenesis response proteins in apples and cherries. The heatmap above shows the similarities in different positions in nucleotide sequences. We can also observe a massive chunk of white area, implying a sequence identical region between two sequences. To further validate if two proteins have structural similarity, a protein alignment is performed through Pymol and RMSD =  2.157 is return. RMSD is always greater than 0 and RMSD = 0 means perfect alignment. RMSD = 2.157 indicates a really good protein alignment and from the animation I created it can also be observed that two pathogenesis response proteins in apple and cherry has high structural similarity. Thus, my hypothesis was correct and these two proteins are highly structurally similar. "
   ]
  }
 ],
 "metadata": {
  "kernelspec": {
   "display_name": "Python 3 (ipykernel)",
   "language": "python",
   "name": "python3"
  },
  "language_info": {
   "codemirror_mode": {
    "name": "ipython",
    "version": 3
   },
   "file_extension": ".py",
   "mimetype": "text/x-python",
   "name": "python",
   "nbconvert_exporter": "python",
   "pygments_lexer": "ipython3",
   "version": "3.9.7"
  }
 },
 "nbformat": 4,
 "nbformat_minor": 5
}
